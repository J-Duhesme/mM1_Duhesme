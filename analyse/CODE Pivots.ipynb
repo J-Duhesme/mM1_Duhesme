{
 "cells": [
  {
   "cell_type": "code",
   "execution_count": null,
   "metadata": {},
   "outputs": [],
   "source": [
    "#extraction des phrases pivot"
   ]
  },
  {
   "cell_type": "code",
   "execution_count": 20,
   "metadata": {},
   "outputs": [],
   "source": [
    "ep1 = \"/home/port-pret-etu01/Documents/LATTICE/NEW1810-1840.conllu\"\n",
    "ep2 = \"/home/port-pret-etu01/Documents/LATTICE/NEW1841-1913.conllu\"\n",
    "ep3 = \"/home/port-pret-etu01/Documents/LATTICE/NEW1914-2009.conllu\"\n",
    "\n",
    "\n",
    "files = [ep1, ep2, ep3]"
   ]
  },
  {
   "cell_type": "code",
   "execution_count": 21,
   "metadata": {},
   "outputs": [],
   "source": [
    "def extract_pivotsent(file):\n",
    "    output = f\"/home/port-pret-etu01/Documents/LATTICE/pivots_{file.split('/')[-1]}.txt\"\n",
    "    with open(output, \"w\") as p:\n",
    "        with open(file, \"r\") as f:\n",
    "            content = f.readlines()\n",
    "            for line in content:\n",
    "                if line.startswith(\"# PivotSent =\"):\n",
    "                    p.write(line)\n",
    "                else:\n",
    "                    continue\n",
    "    return p\n",
    "\n"
   ]
  },
  {
   "cell_type": "code",
   "execution_count": 22,
   "metadata": {},
   "outputs": [],
   "source": [
    "for file in files:\n",
    "    extract_pivotsent(file)"
   ]
  }
 ],
 "metadata": {
  "kernelspec": {
   "display_name": "Python 3",
   "language": "python",
   "name": "python3"
  },
  "language_info": {
   "codemirror_mode": {
    "name": "ipython",
    "version": 3
   },
   "file_extension": ".py",
   "mimetype": "text/x-python",
   "name": "python",
   "nbconvert_exporter": "python",
   "pygments_lexer": "ipython3",
   "version": "3.10.12"
  }
 },
 "nbformat": 4,
 "nbformat_minor": 2
}
