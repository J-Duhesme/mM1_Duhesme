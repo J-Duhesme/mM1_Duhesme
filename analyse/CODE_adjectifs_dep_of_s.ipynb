{
 "cells": [
  {
   "cell_type": "code",
   "execution_count": 1,
   "metadata": {},
   "outputs": [],
   "source": [
    "#extraction adjectifs dépendants de pain(s)"
   ]
  },
  {
   "cell_type": "code",
   "execution_count": 2,
   "metadata": {},
   "outputs": [],
   "source": [
    "ep1 = \"/home/port-pret-etu01/Documents/LATTICE/conllu/1810-1840.conllu\"\n",
    "ep2 = \"/home/port-pret-etu01/Documents/LATTICE/conllu/1841-1913.conllu\"\n",
    "ep3 = \"/home/port-pret-etu01/Documents/LATTICE/conllu/1914-2009.conllu\"\n",
    "\n",
    "docs = [ep1, ep2, ep3]\n",
    "\n"
   ]
  },
  {
   "cell_type": "code",
   "execution_count": 3,
   "metadata": {},
   "outputs": [],
   "source": [
    "def extract_dependents(file_path, output_all_path, output_adj_path, target_lemmas):\n",
    "    with open(file_path, 'r', encoding='utf-8') as f:\n",
    "        lines = f.readlines()\n",
    "\n",
    "    sentences = []\n",
    "    sentence = []\n",
    "    for line in lines:\n",
    "        line = line.strip()\n",
    "        if line == \"\":\n",
    "            if sentence:\n",
    "                sentences.append(sentence)\n",
    "                sentence = []\n",
    "        elif not line.startswith(\"#\"):\n",
    "            sentence.append(line)\n",
    "    if sentence:\n",
    "        sentences.append(sentence)\n",
    "\n",
    "    all_results = []\n",
    "    adj_results = []\n",
    "\n",
    "    for sent in sentences:\n",
    "        token_list = []\n",
    "        for line in sent:\n",
    "            parts = line.split('\\t')\n",
    "            if len(parts) < 8 or '-' in parts[0] or '.' in parts[0]:\n",
    "                continue\n",
    "            token_list.append({\n",
    "                \"index\": int(parts[0]),\n",
    "                \"word\": parts[1],\n",
    "                \"lemma\": parts[2].lower(),\n",
    "                \"upos\": parts[3],  # Universal POS\n",
    "                \"xpos\": parts[4],  # Language-specific POS (ex. JJ)\n",
    "                \"head\": int(parts[6])\n",
    "            })\n",
    "\n",
    "        target_tokens = [t for t in token_list if t[\"lemma\"] in target_lemmas]\n",
    "        if not target_tokens:\n",
    "            continue\n",
    "\n",
    "        target_indices = {t[\"index\"] for t in target_tokens}\n",
    "\n",
    "        dependents = [\n",
    "            t for t in token_list\n",
    "            if t[\"head\"] in target_indices and t[\"lemma\"] not in target_lemmas\n",
    "        ]\n",
    "\n",
    "        if dependents:\n",
    "            sorted_deps = sorted(dependents, key=lambda x: x[\"index\"])\n",
    "            for t in sorted_deps:\n",
    "                word_pos = f\"{t['word']}\\t{t['upos']}/{t['xpos']}\"\n",
    "                all_results.append(word_pos)\n",
    "                if t[\"upos\"] == \"ADJ\" or t[\"xpos\"] == \"JJ\":\n",
    "                    adj_results.append(word_pos)\n",
    "                    \n",
    "    with open(output_all_path, 'w', encoding='utf-8') as f_all:\n",
    "        for line in all_results:\n",
    "            f_all.write(line + \"\\n\")\n",
    "\n",
    "    with open(output_adj_path, 'w', encoding='utf-8') as f_adj:\n",
    "        for line in adj_results:\n",
    "            f_adj.write(line + \"\\n\")\n",
    "\n",
    "    print(f\"dep saved under: {output_all_path}\")\n",
    "    print(f\"adj saved under: {output_adj_path}\")\n"
   ]
  },
  {
   "cell_type": "code",
   "execution_count": 4,
   "metadata": {},
   "outputs": [
    {
     "name": "stdout",
     "output_type": "stream",
     "text": [
      "doc: /home/port-pret-etu01/Documents/LATTICE/conllu/1810-1840.conllu\n",
      "dep saved under: /home/port-pret-etu01/Documents/LATTICE/dependencies/dep (what is dep of pain)/adjectifs_s/alle_dependenten_ep1.txt\n",
      "adj saved under: /home/port-pret-etu01/Documents/LATTICE/dependencies/dep (what is dep of pain)/adjectifs_s/nur_adjektive_ep1.txt\n",
      "doc: /home/port-pret-etu01/Documents/LATTICE/conllu/1841-1913.conllu\n",
      "dep saved under: /home/port-pret-etu01/Documents/LATTICE/dependencies/dep (what is dep of pain)/adjectifs_s/alle_dependenten_ep2.txt\n",
      "adj saved under: /home/port-pret-etu01/Documents/LATTICE/dependencies/dep (what is dep of pain)/adjectifs_s/nur_adjektive_ep2.txt\n",
      "doc: /home/port-pret-etu01/Documents/LATTICE/conllu/1914-2009.conllu\n",
      "dep saved under: /home/port-pret-etu01/Documents/LATTICE/dependencies/dep (what is dep of pain)/adjectifs_s/alle_dependenten_ep3.txt\n",
      "adj saved under: /home/port-pret-etu01/Documents/LATTICE/dependencies/dep (what is dep of pain)/adjectifs_s/nur_adjektive_ep3.txt\n"
     ]
    }
   ],
   "source": [
    "output_dir = \"/home/port-pret-etu01/Documents/LATTICE/dependencies/dep (what is dep of pain)/adjectifs_s\"\n",
    "\n",
    "for i, file_path in enumerate(docs, start=1):\n",
    "    output_all_path = f\"{output_dir}/alle_dependenten_ep{i}.txt\"\n",
    "    output_adj_path = f\"{output_dir}/nur_adjektive_ep{i}.txt\"\n",
    "\n",
    "    print(f\"doc: {file_path}\")\n",
    "    extract_dependents(\n",
    "        file_path=file_path,\n",
    "        output_all_path=output_all_path,\n",
    "        output_adj_path=output_adj_path,\n",
    "        target_lemmas={\"pain\", \"pains\"}\n",
    "    )\n",
    "\n",
    "\n"
   ]
  },
  {
   "cell_type": "code",
   "execution_count": 5,
   "metadata": {},
   "outputs": [],
   "source": [
    "#freqdcits pour adjectifs"
   ]
  },
  {
   "cell_type": "code",
   "execution_count": 6,
   "metadata": {},
   "outputs": [
    {
     "name": "stdout",
     "output_type": "stream",
     "text": [
      "Auswertung gespeichert in: /home/port-pret-etu01/Documents/LATTICE/dependencies/dep (what is dep of pain)/adjectifs_s/adjectifs_freqdict.txt\n"
     ]
    }
   ],
   "source": [
    "from collections import Counter\n",
    "\n",
    "output_dir = \"/home/port-pret-etu01/Documents/LATTICE/dependencies/dep (what is dep of pain)/adjectifs_s\"\n",
    "\n",
    "adj_files = [\n",
    "    f\"{output_dir}/nur_adjektive_ep1.txt\",\n",
    "    f\"{output_dir}/nur_adjektive_ep2.txt\",\n",
    "    f\"{output_dir}/nur_adjektive_ep3.txt\"\n",
    "]\n",
    "\n",
    "result_file = f\"{output_dir}/adjectifs_freqdict.txt\"\n",
    "\n",
    "with open(result_file, 'w', encoding='utf-8') as out_f:\n",
    "\n",
    "    for i, adj_file in enumerate(adj_files, start=1):\n",
    "        with open(adj_file, 'r', encoding='utf-8') as f:\n",
    "            lines = f.read().splitlines()\n",
    "\n",
    " \n",
    "        adjectives = [adj for adj in lines if adj != '-']\n",
    "\n",
    "        total_adj = len(adjectives)\n",
    "        freq = Counter(adjectives)\n",
    "\n",
    "        out_f.write(f\"=== epoque {i} ===\\n\")\n",
    "        out_f.write(f\"TOTAL adjectifs: {total_adj}\\n\\n\")\n",
    "\n",
    "        out_f.write(\"top 10 adjectifs (adjectif | fréquence | pourcentage)\\n\")\n",
    "        out_f.write(\"-\" * 60 + \"\\n\")\n",
    "        top_10 = freq.most_common(10)\n",
    "        for adj, count in top_10:\n",
    "            percent = (count / total_adj * 100) if total_adj > 0 else 0\n",
    "            out_f.write(f\"{adj:20} | {count:7} | {percent:6.2f}%\\n\")\n",
    "        out_f.write(\"\\n\")\n",
    "\n",
    "        out_f.write(\"tous les adjectifs:\\n\")\n",
    "        out_f.write(\"-\" * 35 + \"\\n\")\n",
    "        for adj, count in freq.most_common():\n",
    "            out_f.write(f\"{adj:20} : {count}\\n\")\n",
    "        out_f.write(\"\\n\\n\")\n",
    "\n",
    "print(f\"Saved under: {result_file}\")\n"
   ]
  }
 ],
 "metadata": {
  "kernelspec": {
   "display_name": "Python 3",
   "language": "python",
   "name": "python3"
  },
  "language_info": {
   "codemirror_mode": {
    "name": "ipython",
    "version": 3
   },
   "file_extension": ".py",
   "mimetype": "text/x-python",
   "name": "python",
   "nbconvert_exporter": "python",
   "pygments_lexer": "ipython3",
   "version": "3.10.12"
  }
 },
 "nbformat": 4,
 "nbformat_minor": 2
}
