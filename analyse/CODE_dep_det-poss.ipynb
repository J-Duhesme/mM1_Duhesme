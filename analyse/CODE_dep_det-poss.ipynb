{
 "cells": [
  {
   "cell_type": "code",
   "execution_count": null,
   "metadata": {},
   "outputs": [],
   "source": [
    "#extraire toutes les dépendants des lemmes ADJ et ADV avec des déterminants possessifs"
   ]
  },
  {
   "cell_type": "code",
   "execution_count": 10,
   "metadata": {},
   "outputs": [],
   "source": [
    "short_ep1 = \"/home/port-pret-etu01/Documents/LATTICE/pivotsents/short/pivots_NEW1810-1840_pain_short.txt\"\n",
    "short_ep2 = \"/home/port-pret-etu01/Documents/LATTICE/pivotsents/short/pivots_NEW1841-1913_pain_short.txt\"\n",
    "short_ep3 = \"/home/port-pret-etu01/Documents/LATTICE/pivotsents/short/pivots_NEW1914-2009_pain_short.txt\"\n",
    "\n",
    "fichiers = [short_ep1, short_ep2, short_ep3]"
   ]
  },
  {
   "cell_type": "code",
   "execution_count": 11,
   "metadata": {},
   "outputs": [
    {
     "name": "stdout",
     "output_type": "stream",
     "text": [
      "Résultats sauvegardés dans '/home/port-pret-etu01/Documents/LATTICE/pivotsents/short/pronouns'\n"
     ]
    }
   ],
   "source": [
    "import os\n",
    "import json\n",
    "import pandas as pd\n",
    "from collections import Counter\n",
    "from tabulate import tabulate\n",
    "\n",
    "pronoms = {\"his\", \"her\", \"my\", \"their\", \"your\", \"our\", \"thy\"}\n",
    "\n",
    "def lire_tokens(chemin):\n",
    "    with open(chemin, \"r\", encoding=\"utf-8\") as f:\n",
    "        lignes = [ligne.strip() for ligne in f if ligne.strip()]\n",
    "    tokens = []\n",
    "    for ligne in lignes:\n",
    "        tokens.extend(ligne.split())\n",
    "    return tokens\n",
    "\n",
    "def compter_pronoms_avant(tokens, mot_cible):\n",
    "    compte_pronoms = Counter()\n",
    "    total_pronom = 0\n",
    "    total_mot = 0\n",
    "    for i in range(len(tokens)):\n",
    "        if tokens[i].lower() == mot_cible:\n",
    "            total_mot += 1\n",
    "            if i > 0:\n",
    "                precedent = tokens[i - 1].lower()\n",
    "                if precedent in pronoms:\n",
    "                    compte_pronoms[precedent] += 1\n",
    "                    total_pronom += 1\n",
    "    return total_mot, total_pronom, compte_pronoms\n",
    "\n",
    "def detect_epoque(path):\n",
    "    if \"1810-1840\" in path:\n",
    "        return \"ep1\"\n",
    "    elif \"1841-1913\" in path:\n",
    "        return \"ep2\"\n",
    "    elif \"1914-2009\" in path:\n",
    "        return \"ep3\"\n",
    "\n",
    "with open(\"/home/port-pret-etu01/Documents/LATTICE/méta/output/total_pivot_counts.json\", \"r\", encoding=\"utf-8\") as f:\n",
    "    pivot_totals = json.load(f)\n",
    "\n",
    "fichier_sortie = \"/home/port-pret-etu01/Documents/LATTICE/pivotsents/short/pronouns\"\n",
    "\n",
    "with open(fichier_sortie, \"w\", encoding=\"utf-8\") as out:\n",
    "    for chemin in fichiers:\n",
    "        tokens = lire_tokens(chemin)\n",
    "        ep = detect_epoque(chemin)\n",
    "\n",
    "        painful_total = pivot_totals.get(ep, {}).get(\"painful\", 0)\n",
    "        painfully_total = pivot_totals.get(ep, {}).get(\"painfully\", 0)\n",
    "\n",
    "        total_painful, total_painful_pronom, compte_painful = compter_pronoms_avant(tokens, \"painful\")\n",
    "        total_painfully, total_painfully_pronom, compte_painfully = compter_pronoms_avant(tokens, \"painfully\")\n",
    "\n",
    "        out.write(f\"Fichier : {chemin}\\n\\n\")\n",
    "\n",
    "        out.write(f\"painful - Nombre total (pivot JSON) : {painful_total}\\n\")\n",
    "        out.write(f\"painful - Nombre précédé d'un pronom : {total_painful_pronom}\\n\\n\")\n",
    "        if total_painful_pronom > 0:\n",
    "            df_painful = pd.DataFrame(compte_painful.most_common(), columns=[\"Pronom\", \"Fréquence\"])\n",
    "            df_painful[\"Part / TOTAL (%)\"] = df_painful[\"Fréquence\"].apply(\n",
    "                lambda x: round((x / painful_total) * 100, 2) if painful_total > 0 else 0\n",
    "            )\n",
    "            tableau_painful = tabulate(df_painful, headers=\"keys\", tablefmt=\"fancy_grid\", showindex=False)\n",
    "            out.write(tableau_painful + \"\\n\\n\")\n",
    "        else:\n",
    "            out.write(\"rien trouvé\".\\n\\n\")\n",
    "\n",
    "        out.write(f\"painfully - Nombre total (pivot JSON) : {painfully_total}\\n\")\n",
    "        out.write(f\"painfully - Nombre précédé d'un pronom : {total_painfully_pronom}\\n\\n\")\n",
    "        if total_painfully_pronom > 0:\n",
    "            df_painfully = pd.DataFrame(compte_painfully.most_common(), columns=[\"Pronom\", \"Fréquence\"])\n",
    "            df_painfully[\"Part / TOTAL (%)\"] = df_painfully[\"Fréquence\"].apply(\n",
    "                lambda x: round((x / painfully_total) * 100, 2) if painfully_total > 0 else 0\n",
    "            )\n",
    "            tableau_painfully = tabulate(df_painfully, headers=\"keys\", tablefmt=\"fancy_grid\", showindex=False)\n",
    "            out.write(tableau_painfully + \"\\n\\n\")\n",
    "        else:\n",
    "            out.write(\"rien trouvé.\\n\\n\")\n",
    "\n",
    "        out.write(\"=\" * 80 + \"\\n\\n\")\n",
    "\n",
    "print(f\"Saved under '{fichier_sortie}'\")\n"
   ]
  }
 ],
 "metadata": {
  "kernelspec": {
   "display_name": "Python 3",
   "language": "python",
   "name": "python3"
  },
  "language_info": {
   "codemirror_mode": {
    "name": "ipython",
    "version": 3
   },
   "file_extension": ".py",
   "mimetype": "text/x-python",
   "name": "python",
   "nbconvert_exporter": "python",
   "pygments_lexer": "ipython3",
   "version": "3.10.12"
  }
 },
 "nbformat": 4,
 "nbformat_minor": 2
}
