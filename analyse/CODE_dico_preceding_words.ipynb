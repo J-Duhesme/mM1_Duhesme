{
 "cells": [
  {
   "cell_type": "code",
   "execution_count": null,
   "metadata": {},
   "outputs": [],
   "source": [
    "#extraction des token précédant les lemmes pivot, syntaxe\n",
    "#compter leur fréquence"
   ]
  },
  {
   "cell_type": "code",
   "execution_count": 14,
   "metadata": {},
   "outputs": [],
   "source": [
    "ep1 = \"/home/port-pret-etu01/Documents/LATTICE/short/pivots_NEW1810-1840_pain_short.txt\"\n",
    "ep2 = \"/home/port-pret-etu01/Documents/LATTICE/short/pivots_NEW1841-1913_pain_short.txt\"\n",
    "ep3 = \"/home/port-pret-etu01/Documents/LATTICE/short/pivots_NEW1914-2009_pain_short.txt\"\n",
    "\n",
    "docs = [ep1, ep2, ep3]"
   ]
  },
  {
   "cell_type": "code",
   "execution_count": 15,
   "metadata": {},
   "outputs": [],
   "source": [
    "import re\n",
    "import json\n",
    "import os\n",
    "from collections import defaultdict\n",
    "\n",
    "def count_preceding_words(file_paths):\n",
    "    target_words = ['pain', 'pains', 'painful', 'painfully']\n",
    "\n",
    "    for doc_index, file_path in enumerate(file_paths):\n",
    "        with open(file_path, 'r', encoding='utf-8') as f:\n",
    "            text = f.read().lower()\n",
    "\n",
    "        text = re.sub(r'[^\\w\\s]', ' ', text)\n",
    "        tokens = text.split()\n",
    "        doc_counts = {word: defaultdict(int) for word in target_words}\n",
    "\n",
    "        for i in range(1, len(tokens)):\n",
    "            current_word = tokens[i]\n",
    "            previous_word = tokens[i - 1]\n",
    "            if current_word in target_words:\n",
    "                doc_counts[current_word][previous_word] += 1\n",
    "\n",
    "        sorted_counts = {\n",
    "            word: dict(sorted(counts.items(), key=lambda item: item[1], reverse=True))\n",
    "            for word, counts in doc_counts.items()\n",
    "        }\n",
    "\n",
    "        base_dir = os.path.dirname(file_path)\n",
    "        output_filename = f'document_{doc_index+1}_pain_words.json'\n",
    "        output_path = os.path.join(base_dir, output_filename)\n",
    "\n",
    "        with open(output_path, 'w', encoding='utf-8') as out_file:\n",
    "            json.dump(sorted_counts, out_file, indent=2, ensure_ascii=False)\n"
   ]
  },
  {
   "cell_type": "code",
   "execution_count": 16,
   "metadata": {},
   "outputs": [],
   "source": [
    "\n",
    "count_preceding_words(docs)\n"
   ]
  }
 ],
 "metadata": {
  "kernelspec": {
   "display_name": "Python 3",
   "language": "python",
   "name": "python3"
  },
  "language_info": {
   "codemirror_mode": {
    "name": "ipython",
    "version": 3
   },
   "file_extension": ".py",
   "mimetype": "text/x-python",
   "name": "python",
   "nbconvert_exporter": "python",
   "pygments_lexer": "ipython3",
   "version": "3.10.12"
  }
 },
 "nbformat": 4,
 "nbformat_minor": 2
}
