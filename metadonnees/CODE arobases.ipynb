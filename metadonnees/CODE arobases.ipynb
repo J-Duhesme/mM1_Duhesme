{
 "cells": [
  {
   "cell_type": "code",
   "execution_count": null,
   "metadata": {},
   "outputs": [],
   "source": [
    "#extraction nb de @ dans conll-u"
   ]
  },
  {
   "cell_type": "code",
   "execution_count": 1,
   "metadata": {},
   "outputs": [],
   "source": [
    "ep1 = \"/home/port-pret-etu01/Documents/LATTICE/conllu/1810-1840.conllu\"\n",
    "ep2 = \"/home/port-pret-etu01/Documents/LATTICE/conllu/1841-1913.conllu\"\n",
    "ep3 = \"/home/port-pret-etu01/Documents/LATTICE/conllu/1914-2009.conllu\"\n",
    "\n",
    "files =[ep1, ep2, ep3]"
   ]
  },
  {
   "cell_type": "code",
   "execution_count": 2,
   "metadata": {},
   "outputs": [
    {
     "name": "stdout",
     "output_type": "stream",
     "text": [
      "862\n",
      "4266\n",
      "4105\n"
     ]
    }
   ],
   "source": [
    "for i in files:\n",
    "    counter = 0\n",
    "    with open(i,\"r\") as f:\n",
    "        content = f.readlines()\n",
    "        for line in content:\n",
    "            if line.startswith(\"# PivotSent = \"):\n",
    "                if \"@\" in line:\n",
    "                    counter += 1\n",
    "                else:\n",
    "                    continue\n",
    "            else:\n",
    "                continue\n",
    "    print(counter)"
   ]
  }
 ],
 "metadata": {
  "kernelspec": {
   "display_name": "Python 3",
   "language": "python",
   "name": "python3"
  },
  "language_info": {
   "codemirror_mode": {
    "name": "ipython",
    "version": 3
   },
   "file_extension": ".py",
   "mimetype": "text/x-python",
   "name": "python",
   "nbconvert_exporter": "python",
   "pygments_lexer": "ipython3",
   "version": "3.10.12"
  }
 },
 "nbformat": 4,
 "nbformat_minor": 2
}
